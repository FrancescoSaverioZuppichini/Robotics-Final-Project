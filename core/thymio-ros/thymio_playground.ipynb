{
 "cells": [
  {
   "cell_type": "code",
   "execution_count": 1,
   "metadata": {},
   "outputs": [],
   "source": [
    "import numpy as np\n",
    "from utils import draw_boxes, unbox\n",
    "import json\n",
    "from PIL import Image, ImageFont, ImageDraw\n",
    "from PID import PID\n",
    "import glob\n",
    "import os\n",
    "import time\n",
    "import cv2\n"
   ]
  },
  {
   "cell_type": "markdown",
   "metadata": {},
   "source": [
    "## Preprocessing\n",
    "We store some images from the thymio so we can use them to locally test the logic behind the code that we will run on the thymio"
   ]
  },
  {
   "cell_type": "code",
   "execution_count": 2,
   "metadata": {},
   "outputs": [],
   "source": [
    "def get_n(x):\n",
    "    n = x.split('/')[-1].split('.')[0]\n",
    "    return int(n)"
   ]
  },
  {
   "cell_type": "code",
   "execution_count": 3,
   "metadata": {
    "scrolled": false
   },
   "outputs": [
    {
     "data": {
      "text/plain": [
       "[]"
      ]
     },
     "execution_count": 3,
     "metadata": {},
     "output_type": "execute_result"
    }
   ],
   "source": [
    "images_path = sorted(glob.glob('./image_save/*.npy'), key=get_n)\n",
    "datas_path = sorted(glob.glob('./image_save/*.json'), key=get_n)\n",
    "paths = list(zip(images_path, datas_path))\n",
    "paths"
   ]
  },
  {
   "cell_type": "code",
   "execution_count": 7,
   "metadata": {},
   "outputs": [],
   "source": [
    "TARGET = 'person'"
   ]
  },
  {
   "cell_type": "code",
   "execution_count": 8,
   "metadata": {},
   "outputs": [],
   "source": [
    "def load_from_path(paths):\n",
    "    img_path, data_path = paths\n",
    "    img = np.load(img_path)\n",
    "    data = json.load(open(data_path, 'r'))\n",
    "    \n",
    "    return img, data['res']"
   ]
  },
  {
   "cell_type": "code",
   "execution_count": 9,
   "metadata": {},
   "outputs": [],
   "source": [
    "dataset = list(map(load_from_path, paths))"
   ]
  },
  {
   "cell_type": "code",
   "execution_count": 10,
   "metadata": {},
   "outputs": [],
   "source": [
    "width, height, colors = dataset[0][0].shape"
   ]
  },
  {
   "cell_type": "code",
   "execution_count": 11,
   "metadata": {
    "scrolled": true
   },
   "outputs": [
    {
     "name": "stdout",
     "output_type": "stream",
     "text": [
      "image size: 480,640\n"
     ]
    }
   ],
   "source": [
    "print(\"image size: {},{}\".format(width, height))"
   ]
  },
  {
   "cell_type": "code",
   "execution_count": 12,
   "metadata": {},
   "outputs": [],
   "source": [
    "def is_target_in_img(data, target):\n",
    "    filtered = list(filter(lambda x: x['class'] == target, data))\n",
    "    return len(filtered) > 0"
   ]
  },
  {
   "cell_type": "code",
   "execution_count": 13,
   "metadata": {},
   "outputs": [],
   "source": [
    "def get_class_data(data, class_name):\n",
    "    filtered = list(filter(lambda x: x['class'] == class_name, data))\n",
    "    \n",
    "    return None if len(filtered) <= 0 else filtered[0]"
   ]
  },
  {
   "cell_type": "code",
   "execution_count": 14,
   "metadata": {},
   "outputs": [],
   "source": [
    "def get_box(data, class_name):\n",
    "    data = get_class_data(data, class_name)\n",
    "    box = np.array(data['boxes'])\n",
    "    box[box < 0] = 0 #prune negative\n",
    "    return box"
   ]
  },
  {
   "cell_type": "markdown",
   "metadata": {},
   "source": [
    "## How far we are from the object\n",
    "New we need to calculate the mid point y of the rectangle in order to find out how much we are far from the center"
   ]
  },
  {
   "cell_type": "code",
   "execution_count": 15,
   "metadata": {},
   "outputs": [
    {
     "data": {
      "text/plain": [
       "240"
      ]
     },
     "execution_count": 15,
     "metadata": {},
     "output_type": "execute_result"
    }
   ],
   "source": [
    "img_mid_p = width // 2\n",
    "img_mid_p"
   ]
  },
  {
   "cell_type": "code",
   "execution_count": 16,
   "metadata": {
    "scrolled": true
   },
   "outputs": [
    {
     "data": {
      "text/plain": [
       "(148.19534301757812, 135.91024780273438, 204.44972229003906, 150.40576171875)"
      ]
     },
     "execution_count": 16,
     "metadata": {},
     "output_type": "execute_result"
    }
   ],
   "source": [
    "top, left, bottom, right = dataset[0][1][0]['boxes']\n",
    "top, left, bottom, right "
   ]
  },
  {
   "cell_type": "markdown",
   "metadata": {},
   "source": [
    "### How many  leds to turn on\n",
    "on the thymio we hade 5 leds"
   ]
  },
  {
   "cell_type": "code",
   "execution_count": 17,
   "metadata": {},
   "outputs": [],
   "source": [
    "N_LEDS = 5"
   ]
  },
  {
   "cell_type": "code",
   "execution_count": 18,
   "metadata": {},
   "outputs": [],
   "source": [
    "led_mask = np.zeros(N_LEDS)"
   ]
  },
  {
   "cell_type": "markdown",
   "metadata": {},
   "source": [
    "we need to find out how many % the rectangular is in the img"
   ]
  },
  {
   "cell_type": "code",
   "execution_count": 19,
   "metadata": {
    "scrolled": true
   },
   "outputs": [
    {
     "data": {
      "text/plain": [
       "0.015667266845703125"
      ]
     },
     "execution_count": 19,
     "metadata": {},
     "output_type": "execute_result"
    }
   ],
   "source": [
    "(left / width / 100) * N_LEDS\n",
    "((right / width) / 100) * N_LEDS"
   ]
  },
  {
   "cell_type": "code",
   "execution_count": 20,
   "metadata": {},
   "outputs": [
    {
     "data": {
      "text/plain": [
       "(1, 1)"
      ]
     },
     "execution_count": 20,
     "metadata": {},
     "output_type": "execute_result"
    }
   ],
   "source": [
    "start_led = int(((left / width) / 100) * N_LEDS * 100)\n",
    "end_led = int(((right / width) / 100) * N_LEDS * 100)\n",
    "start_led, end_led"
   ]
  },
  {
   "cell_type": "code",
   "execution_count": 21,
   "metadata": {},
   "outputs": [],
   "source": [
    "led_mask[start_led:end_led] = 1"
   ]
  },
  {
   "cell_type": "code",
   "execution_count": 22,
   "metadata": {},
   "outputs": [
    {
     "data": {
      "text/plain": [
       "array([0., 0., 0., 0., 0.])"
      ]
     },
     "execution_count": 22,
     "metadata": {},
     "output_type": "execute_result"
    }
   ],
   "source": [
    "led_mask"
   ]
  },
  {
   "cell_type": "code",
   "execution_count": 23,
   "metadata": {},
   "outputs": [],
   "source": [
    "def get_err(box):\n",
    "    top, left, bottom, right = box\n",
    "    target_mid_p = np.abs(left - right) / 2\n",
    "    offset = (left + target_mid_p)\n",
    "    print(offset)\n",
    "    err = offset - img_mid_p\n",
    "    return err"
   ]
  },
  {
   "cell_type": "code",
   "execution_count": 24,
   "metadata": {},
   "outputs": [],
   "source": [
    "angular_pid = PID(Kd=5, Ki=0, Kp=0.1)"
   ]
  },
  {
   "cell_type": "code",
   "execution_count": 25,
   "metadata": {},
   "outputs": [
    {
     "name": "stdout",
     "output_type": "stream",
     "text": [
      "41.98937225341797\n",
      "err: -198.01062774658203\n",
      "vel: -19.801062774658206\n",
      "112.7409553527832\n",
      "err: -127.2590446472168\n",
      "vel: 341.0320110321045\n",
      "190.70595169067383\n",
      "err: -49.29404830932617\n",
      "vel: 384.8955768585205\n",
      "249.20473098754883\n",
      "err: 9.204730987548828\n",
      "vel: 293.4143695831299\n",
      "241.51050567626953\n",
      "err: 1.5105056762695312\n",
      "vel: -38.32007598876953\n",
      "324.3134994506836\n",
      "err: 84.3134994506836\n",
      "vel: 422.44631881713866\n"
     ]
    }
   ],
   "source": [
    "for img, data in dataset:\n",
    "    if is_target_in_img(data, TARGET):\n",
    "        img = Image.fromarray(np.roll(img, 1, axis=-1))\n",
    "        img.show()\n",
    "        box = get_box(data, TARGET)\n",
    "        err = get_err(box)\n",
    "        ang_vel = angular_pid.step(err, 1)\n",
    "#         print('mid p:',img_mid_p)\n",
    "        print(\"err:\", err)\n",
    "        print(\"vel:\", ang_vel)\n",
    "\n",
    "        img.close()\n",
    "        time.sleep(0.3)"
   ]
  },
  {
   "cell_type": "markdown",
   "metadata": {},
   "source": [
    "## Real data from the Thymio"
   ]
  },
  {
   "cell_type": "code",
   "execution_count": 7,
   "metadata": {},
   "outputs": [],
   "source": [
    "import matplotlib.pyplot as plt"
   ]
  },
  {
   "cell_type": "code",
   "execution_count": 8,
   "metadata": {},
   "outputs": [],
   "source": [
    "err = [-0.599661126236,-0.577736361821,-0.562375926971,-0.550064325333,-0.541476583481,-0.516269297401,-0.479043871164,-0.453105874856,-0.426700818539,-0.38413563172,-0.342431433996,-0.31088681221,-0.278597942988,-0.237514273326,-0.202485402425,-0.168962160746,-0.125017563502,-0.0914477030436,-0.0555149237315,-0.0287092844645,0.0107469558716,0.0504107475281,0.0834788958232,0.115181223551,0.145635414124,0.187940597534,0.222352981567,0.250846163432,0.328469435374,0.37017065684,0.389235782623,0.434866078695,0.472462368011,0.503446102142,0.524384562174,0.551801300049,0.569025103251,0.583710988363,]"
   ]
  },
  {
   "cell_type": "code",
   "execution_count": 11,
   "metadata": {},
   "outputs": [
    {
     "data": {
      "image/png": "[encoded data removed]",
      "text/plain": [
       "<matplotlib.figure.Figure at 0x114541f28>"
      ]
     },
     "metadata": {},
     "output_type": "display_data"
    }
   ],
   "source": [
    "fig = plt.figure()\n",
    "plt.plot(err)\n",
    "plt.ylabel('Error')\n",
    "plt.xlabel('Frame')\n",
    "plt.show()\n",
    "fig.savefig('../../paper/images/frame_error.png', dpi=300)"
   ]
  },
  {
   "cell_type": "markdown",
   "metadata": {},
   "source": [
    "## Create a Video"
   ]
  },
  {
   "cell_type": "code",
   "execution_count": 22,
   "metadata": {},
   "outputs": [
    {
     "data": {
      "text/plain": [
       "['./image_save/1.jpg',\n",
       " './image_save/2.jpg',\n",
       " './image_save/3.jpg',\n",
       " './image_save/4.jpg',\n",
       " './image_save/6.jpg',\n",
       " './image_save/11.jpg',\n",
       " './image_save/12.jpg',\n",
       " './image_save/13.jpg',\n",
       " './image_save/14.jpg',\n",
       " './image_save/15.jpg',\n",
       " './image_save/16.jpg',\n",
       " './image_save/17.jpg',\n",
       " './image_save/18.jpg',\n",
       " './image_save/20.jpg',\n",
       " './image_save/21.jpg',\n",
       " './image_save/23.jpg',\n",
       " './image_save/24.jpg',\n",
       " './image_save/26.jpg',\n",
       " './image_save/27.jpg',\n",
       " './image_save/28.jpg',\n",
       " './image_save/29.jpg',\n",
       " './image_save/31.jpg',\n",
       " './image_save/32.jpg',\n",
       " './image_save/34.jpg',\n",
       " './image_save/35.jpg',\n",
       " './image_save/36.jpg',\n",
       " './image_save/37.jpg',\n",
       " './image_save/38.jpg',\n",
       " './image_save/39.jpg',\n",
       " './image_save/40.jpg',\n",
       " './image_save/41.jpg',\n",
       " './image_save/42.jpg',\n",
       " './image_save/43.jpg',\n",
       " './image_save/44.jpg',\n",
       " './image_save/45.jpg',\n",
       " './image_save/46.jpg',\n",
       " './image_save/47.jpg',\n",
       " './image_save/48.jpg',\n",
       " './image_save/111.jpg',\n",
       " './image_save/112.jpg',\n",
       " './image_save/113.jpg',\n",
       " './image_save/114.jpg',\n",
       " './image_save/115.jpg',\n",
       " './image_save/116.jpg',\n",
       " './image_save/117.jpg',\n",
       " './image_save/118.jpg',\n",
       " './image_save/119.jpg',\n",
       " './image_save/121.jpg',\n",
       " './image_save/122.jpg',\n",
       " './image_save/123.jpg',\n",
       " './image_save/124.jpg',\n",
       " './image_save/125.jpg',\n",
       " './image_save/126.jpg',\n",
       " './image_save/127.jpg',\n",
       " './image_save/128.jpg',\n",
       " './image_save/129.jpg',\n",
       " './image_save/130.jpg',\n",
       " './image_save/131.jpg',\n",
       " './image_save/132.jpg',\n",
       " './image_save/133.jpg',\n",
       " './image_save/134.jpg',\n",
       " './image_save/135.jpg',\n",
       " './image_save/136.jpg',\n",
       " './image_save/137.jpg',\n",
       " './image_save/138.jpg',\n",
       " './image_save/139.jpg',\n",
       " './image_save/140.jpg',\n",
       " './image_save/141.jpg',\n",
       " './image_save/142.jpg',\n",
       " './image_save/144.jpg',\n",
       " './image_save/146.jpg',\n",
       " './image_save/151.jpg',\n",
       " './image_save/152.jpg',\n",
       " './image_save/154.jpg',\n",
       " './image_save/157.jpg',\n",
       " './image_save/158.jpg',\n",
       " './image_save/161.jpg',\n",
       " './image_save/162.jpg',\n",
       " './image_save/171.jpg',\n",
       " './image_save/184.jpg',\n",
       " './image_save/185.jpg',\n",
       " './image_save/234.jpg',\n",
       " './image_save/296.jpg',\n",
       " './image_save/300.jpg',\n",
       " './image_save/301.jpg',\n",
       " './image_save/302.jpg',\n",
       " './image_save/303.jpg',\n",
       " './image_save/304.jpg',\n",
       " './image_save/305.jpg',\n",
       " './image_save/306.jpg',\n",
       " './image_save/307.jpg',\n",
       " './image_save/308.jpg',\n",
       " './image_save/309.jpg',\n",
       " './image_save/310.jpg',\n",
       " './image_save/311.jpg',\n",
       " './image_save/312.jpg',\n",
       " './image_save/313.jpg',\n",
       " './image_save/314.jpg',\n",
       " './image_save/315.jpg',\n",
       " './image_save/318.jpg',\n",
       " './image_save/319.jpg',\n",
       " './image_save/320.jpg',\n",
       " './image_save/321.jpg',\n",
       " './image_save/322.jpg',\n",
       " './image_save/323.jpg',\n",
       " './image_save/324.jpg',\n",
       " './image_save/325.jpg',\n",
       " './image_save/326.jpg',\n",
       " './image_save/327.jpg',\n",
       " './image_save/328.jpg',\n",
       " './image_save/329.jpg',\n",
       " './image_save/334.jpg',\n",
       " './image_save/335.jpg',\n",
       " './image_save/339.jpg',\n",
       " './image_save/340.jpg',\n",
       " './image_save/348.jpg',\n",
       " './image_save/349.jpg',\n",
       " './image_save/362.jpg',\n",
       " './image_save/363.jpg',\n",
       " './image_save/364.jpg',\n",
       " './image_save/367.jpg',\n",
       " './image_save/368.jpg',\n",
       " './image_save/369.jpg',\n",
       " './image_save/370.jpg',\n",
       " './image_save/371.jpg',\n",
       " './image_save/372.jpg',\n",
       " './image_save/373.jpg',\n",
       " './image_save/374.jpg',\n",
       " './image_save/375.jpg',\n",
       " './image_save/376.jpg',\n",
       " './image_save/377.jpg',\n",
       " './image_save/378.jpg',\n",
       " './image_save/379.jpg',\n",
       " './image_save/380.jpg',\n",
       " './image_save/381.jpg',\n",
       " './image_save/389.jpg',\n",
       " './image_save/390.jpg']"
      ]
     },
     "execution_count": 22,
     "metadata": {},
     "output_type": "execute_result"
    }
   ],
   "source": [
    "images = glob.glob('./image_save/*.jpg')\n",
    "\n",
    "images.sort(key=get_n)"
   ]
  },
  {
   "cell_type": "code",
   "execution_count": 26,
   "metadata": {},
   "outputs": [
    {
     "data": {
      "text/plain": [
       "[(82, './image_save/296.jpg')]"
      ]
     },
     "execution_count": 26,
     "metadata": {},
     "output_type": "execute_result"
    }
   ],
   "source": [
    "list(filter(lambda x: x[1] == './image_save/296.jpg', enumerate(images)))"
   ]
  },
  {
   "cell_type": "code",
   "execution_count": 27,
   "metadata": {},
   "outputs": [],
   "source": [
    "video_img = images[82:]\n"
   ]
  },
  {
   "cell_type": "code",
   "execution_count": 50,
   "metadata": {},
   "outputs": [
    {
     "name": "stdout",
     "output_type": "stream",
     "text": [
      "640 480\n"
     ]
    }
   ],
   "source": [
    "img = cv2.imread(video_img[0])\n",
    "height, width, layers =  img.shape\n",
    "print(width, height)\n",
    "fourcc = cv2.VideoWriter_fourcc(*'DIVX')\n",
    "video = cv2.VideoWriter('video.gif',fourcc, 20.0,(width,height))\n",
    "\n",
    "for img in video_img:\n",
    "    img = cv2.imread(img)\n",
    "    video.write(img.astype('uint8'))\n",
    "# video.write(img1)\n",
    "# video.write(img2)\n",
    "# video.write(img3)\n",
    "\n",
    "cv2.destroyAllWindows()\n",
    "video.release()"
   ]
  },
  {
   "cell_type": "code",
   "execution_count": null,
   "metadata": {},
   "outputs": [],
   "source": []
  },
  {
   "cell_type": "code",
   "execution_count": null,
   "metadata": {},
   "outputs": [],
   "source": []
  }
 ],
 "metadata": {
  "kernelspec": {
   "display_name": "Python 3",
   "language": "python",
   "name": "python3"
  },
  "language_info": {
   "codemirror_mode": {
    "name": "ipython",
    "version": 3
   },
   "file_extension": ".py",
   "mimetype": "text/x-python",
   "name": "python",
   "nbconvert_exporter": "python",
   "pygments_lexer": "ipython3",
   "version": "3.6.5"
  }
 },
 "nbformat": 4,
 "nbformat_minor": 2
}
